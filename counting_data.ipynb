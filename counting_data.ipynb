{
 "cells": [
  {
   "cell_type": "code",
   "execution_count": 12,
   "metadata": {},
   "outputs": [],
   "source": [
    "import pandas as pd\n",
    "import pymongo"
   ]
  },
  {
   "cell_type": "markdown",
   "metadata": {},
   "source": [
    "## Loading Data"
   ]
  },
  {
   "cell_type": "code",
   "execution_count": 20,
   "metadata": {},
   "outputs": [
    {
     "data": {
      "text/html": [
       "<div>\n",
       "<style scoped>\n",
       "    .dataframe tbody tr th:only-of-type {\n",
       "        vertical-align: middle;\n",
       "    }\n",
       "\n",
       "    .dataframe tbody tr th {\n",
       "        vertical-align: top;\n",
       "    }\n",
       "\n",
       "    .dataframe thead th {\n",
       "        text-align: right;\n",
       "    }\n",
       "</style>\n",
       "<table border=\"1\" class=\"dataframe\">\n",
       "  <thead>\n",
       "    <tr style=\"text-align: right;\">\n",
       "      <th></th>\n",
       "      <th>_id</th>\n",
       "      <th>devId</th>\n",
       "      <th>name</th>\n",
       "      <th>age</th>\n",
       "      <th>country</th>\n",
       "    </tr>\n",
       "  </thead>\n",
       "  <tbody>\n",
       "    <tr>\n",
       "      <th>0</th>\n",
       "      <td>6205635477d1b0ab122704ae</td>\n",
       "      <td>1</td>\n",
       "      <td>Thomas</td>\n",
       "      <td>36</td>\n",
       "      <td>Germany</td>\n",
       "    </tr>\n",
       "    <tr>\n",
       "      <th>1</th>\n",
       "      <td>6205635477d1b0ab122704af</td>\n",
       "      <td>2</td>\n",
       "      <td>Lothar</td>\n",
       "      <td>48</td>\n",
       "      <td>Germany</td>\n",
       "    </tr>\n",
       "    <tr>\n",
       "      <th>2</th>\n",
       "      <td>6205635477d1b0ab122704b0</td>\n",
       "      <td>3</td>\n",
       "      <td>Andrew</td>\n",
       "      <td>21</td>\n",
       "      <td>United States</td>\n",
       "    </tr>\n",
       "    <tr>\n",
       "      <th>3</th>\n",
       "      <td>6205635477d1b0ab122704b1</td>\n",
       "      <td>4</td>\n",
       "      <td>John</td>\n",
       "      <td>44</td>\n",
       "      <td>Scotland</td>\n",
       "    </tr>\n",
       "  </tbody>\n",
       "</table>\n",
       "</div>"
      ],
      "text/plain": [
       "                        _id devId    name  age        country\n",
       "0  6205635477d1b0ab122704ae     1  Thomas   36        Germany\n",
       "1  6205635477d1b0ab122704af     2  Lothar   48        Germany\n",
       "2  6205635477d1b0ab122704b0     3  Andrew   21  United States\n",
       "3  6205635477d1b0ab122704b1     4    John   44       Scotland"
      ]
     },
     "execution_count": 20,
     "metadata": {},
     "output_type": "execute_result"
    }
   ],
   "source": [
    "import pandas as pd\n",
    "import pymongo\n",
    "\n",
    "client = pymongo.MongoClient(\"localhost\", 27017)\n",
    "db = client[\"testdb\"]\n",
    "coll = db[\"developers\"]\n",
    "\n",
    "cursor = coll.find()\n",
    "df_devs = pd.DataFrame(list(cursor))\n",
    "df_devs"
   ]
  },
  {
   "cell_type": "markdown",
   "metadata": {},
   "source": [
    "## Counting Devs"
   ]
  },
  {
   "cell_type": "code",
   "execution_count": 26,
   "metadata": {},
   "outputs": [
    {
     "name": "stdout",
     "output_type": "stream",
     "text": [
      "Number Devs: 4\n"
     ]
    }
   ],
   "source": [
    "import pymongo\n",
    "\n",
    "client = pymongo.MongoClient(\"localhost\", 27017)\n",
    "db = client[\"testdb\"]\n",
    "coll = db[\"developers\"]\n",
    "\n",
    "query = {}\n",
    "\n",
    "num_devs = coll.count_documents(query)\n",
    "print(f\"Number Devs: {num_devs}\")"
   ]
  },
  {
   "cell_type": "markdown",
   "metadata": {},
   "source": [
    "## Counting Devs from Germany"
   ]
  },
  {
   "cell_type": "code",
   "execution_count": 22,
   "metadata": {},
   "outputs": [
    {
     "name": "stdout",
     "output_type": "stream",
     "text": [
      "Number Devs from Germany: 2\n"
     ]
    }
   ],
   "source": [
    "client = pymongo.MongoClient(\"localhost\", 27017)\n",
    "db = client[\"testdb\"]\n",
    "coll = db[\"developers\"]\n",
    "\n",
    "query = {}\n",
    "query[\"country\"] = \"Germany\"\n",
    "\n",
    "num_devs = coll.count_documents(query)\n",
    "print(f\"Number Devs from Germany: {num_devs}\")"
   ]
  },
  {
   "cell_type": "markdown",
   "metadata": {},
   "source": [
    "## Counting Devs older than 40"
   ]
  },
  {
   "cell_type": "code",
   "execution_count": 24,
   "metadata": {},
   "outputs": [
    {
     "name": "stdout",
     "output_type": "stream",
     "text": [
      "Number Devs older than 40: 2\n"
     ]
    }
   ],
   "source": [
    "client = pymongo.MongoClient(\"localhost\", 27017)\n",
    "db = client[\"testdb\"]\n",
    "coll = db[\"developers\"]\n",
    "\n",
    "query = {}\n",
    "query[\"age\"] = {\"$gte\": 40}\n",
    "\n",
    "num_devs = coll.count_documents(query)\n",
    "print(f\"Number Devs older than 40: {num_devs}\")"
   ]
  },
  {
   "cell_type": "markdown",
   "metadata": {},
   "source": [
    "## Counting Devs from Germany and older than 40"
   ]
  },
  {
   "cell_type": "code",
   "execution_count": 25,
   "metadata": {},
   "outputs": [
    {
     "name": "stdout",
     "output_type": "stream",
     "text": [
      "Number Devs from Germany and older than 40: 1\n"
     ]
    }
   ],
   "source": [
    "client = pymongo.MongoClient(\"localhost\", 27017)\n",
    "db = client[\"testdb\"]\n",
    "coll = db[\"developers\"]\n",
    "\n",
    "query = {}\n",
    "query[\"country\"] = \"Germany\"\n",
    "query[\"age\"] = {\"$gte\": 40}\n",
    "\n",
    "num_devs = coll.count_documents(query)\n",
    "print(f\"Number Devs from Germany and older than 40: {num_devs}\")"
   ]
  },
  {
   "cell_type": "code",
   "execution_count": null,
   "metadata": {},
   "outputs": [],
   "source": []
  }
 ],
 "metadata": {
  "kernelspec": {
   "display_name": "Python 3",
   "language": "python",
   "name": "python3"
  },
  "language_info": {
   "codemirror_mode": {
    "name": "ipython",
    "version": 3
   },
   "file_extension": ".py",
   "mimetype": "text/x-python",
   "name": "python",
   "nbconvert_exporter": "python",
   "pygments_lexer": "ipython3",
   "version": "3.8.3"
  }
 },
 "nbformat": 4,
 "nbformat_minor": 4
}
