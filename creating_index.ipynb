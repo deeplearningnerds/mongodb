{
 "cells": [
  {
   "cell_type": "markdown",
   "metadata": {},
   "source": [
    "## Inserting Multiple Documents"
   ]
  },
  {
   "cell_type": "code",
   "execution_count": 13,
   "metadata": {},
   "outputs": [
    {
     "name": "stdout",
     "output_type": "stream",
     "text": [
      "{'_id': ObjectId('62815a2592640fc58a19aeb2'), 'devId': '001', 'name': 'Thomas', 'age': 36}\n",
      "{'_id': ObjectId('62815a2592640fc58a19aeb3'), 'devId': '002', 'name': 'John', 'age': 44}\n"
     ]
    }
   ],
   "source": [
    "import pymongo\n",
    "\n",
    "client = pymongo.MongoClient(\"localhost\", 27017)\n",
    "db = client[\"testdb\"]\n",
    "coll = db[\"developers\"]\n",
    "\n",
    "mylist = [\n",
    "    { \"devId\": \"001\", \"name\": \"Thomas\", \"age\": 36 },\n",
    "    { \"devId\": \"002\", \"name\": \"John\", \"age\": 44 }\n",
    "]\n",
    "coll.insert_many(mylist)\n",
    "\n",
    "documents = coll.find()\n",
    "\n",
    "for document in documents:\n",
    "    print(document)"
   ]
  },
  {
   "cell_type": "code",
   "execution_count": 15,
   "metadata": {},
   "outputs": [
    {
     "data": {
      "text/plain": [
       "{'_id_': {'v': 2, 'key': [('_id', 1)]}}"
      ]
     },
     "execution_count": 15,
     "metadata": {},
     "output_type": "execute_result"
    }
   ],
   "source": [
    "coll.drop_indexes()\n",
    "coll.index_information()"
   ]
  },
  {
   "cell_type": "markdown",
   "metadata": {},
   "source": [
    "## Creating a single-field index (ascending order)"
   ]
  },
  {
   "cell_type": "code",
   "execution_count": 5,
   "metadata": {},
   "outputs": [
    {
     "name": "stdout",
     "output_type": "stream",
     "text": [
      "index:  devId_1\n"
     ]
    }
   ],
   "source": [
    "from pymongo import ASCENDING\n",
    "\n",
    "index = coll.create_index([(\"devId\", ASCENDING)])\n",
    "print(\"index: \", index)"
   ]
  },
  {
   "cell_type": "markdown",
   "metadata": {},
   "source": [
    "## Creating a single-field index (descending order)"
   ]
  },
  {
   "cell_type": "code",
   "execution_count": 7,
   "metadata": {},
   "outputs": [
    {
     "name": "stdout",
     "output_type": "stream",
     "text": [
      "index:  devId_-1\n"
     ]
    }
   ],
   "source": [
    "from pymongo import DESCENDING\n",
    "\n",
    "index = coll.create_index([(\"devId\", DESCENDING)])\n",
    "print(\"index: \", index)"
   ]
  },
  {
   "cell_type": "markdown",
   "metadata": {},
   "source": [
    "## Creating a compound index"
   ]
  },
  {
   "cell_type": "code",
   "execution_count": 16,
   "metadata": {},
   "outputs": [
    {
     "name": "stdout",
     "output_type": "stream",
     "text": [
      "index:  devId_1_name_-1\n"
     ]
    }
   ],
   "source": [
    "from pymongo import ASCENDING, DESCENDING\n",
    "\n",
    "index = coll.create_index([(\"devId\", ASCENDING), (\"name\", DESCENDING)])\n",
    "print(\"index: \", index)"
   ]
  },
  {
   "cell_type": "markdown",
   "metadata": {},
   "source": [
    "## Index information"
   ]
  },
  {
   "cell_type": "code",
   "execution_count": 17,
   "metadata": {},
   "outputs": [
    {
     "data": {
      "text/plain": [
       "{'_id_': {'v': 2, 'key': [('_id', 1)]},\n",
       " 'devId_1_name_-1': {'v': 2, 'key': [('devId', 1), ('name', -1)]}}"
      ]
     },
     "execution_count": 17,
     "metadata": {},
     "output_type": "execute_result"
    }
   ],
   "source": [
    "coll.index_information()"
   ]
  },
  {
   "cell_type": "code",
   "execution_count": null,
   "metadata": {},
   "outputs": [],
   "source": []
  }
 ],
 "metadata": {
  "kernelspec": {
   "display_name": "myenv",
   "language": "python",
   "name": "myenv"
  },
  "language_info": {
   "codemirror_mode": {
    "name": "ipython",
    "version": 3
   },
   "file_extension": ".py",
   "mimetype": "text/x-python",
   "name": "python",
   "nbconvert_exporter": "python",
   "pygments_lexer": "ipython3",
   "version": "3.8.3"
  }
 },
 "nbformat": 4,
 "nbformat_minor": 4
}
