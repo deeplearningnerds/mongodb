{
 "cells": [
  {
   "cell_type": "markdown",
   "metadata": {},
   "source": [
    "## Updating a Single Document"
   ]
  },
  {
   "cell_type": "code",
   "execution_count": 3,
   "metadata": {},
   "outputs": [
    {
     "name": "stdout",
     "output_type": "stream",
     "text": [
      "{'_id': ObjectId('62701746796b8b129b7ab550'), 'name': 'Thomas', 'age': 37}\n",
      "{'_id': ObjectId('62701746796b8b129b7ab551'), 'name': 'John', 'age': 44}\n"
     ]
    }
   ],
   "source": [
    "import pymongo\n",
    "\n",
    "client = pymongo.MongoClient(\"localhost\", 27017)\n",
    "db = client[\"testdb\"]\n",
    "coll = db[\"developers\"]\n",
    "\n",
    "query = { \"name\": \"Thomas\" }\n",
    "values = { \"$set\": { \"age\": 37 } }\n",
    "\n",
    "coll.update_one(query, values)\n",
    "\n",
    "documents = coll.find()\n",
    "\n",
    "for document in documents:\n",
    "    print(document)"
   ]
  },
  {
   "cell_type": "markdown",
   "metadata": {},
   "source": [
    "## Updating Multiple Documents"
   ]
  },
  {
   "cell_type": "code",
   "execution_count": 4,
   "metadata": {},
   "outputs": [
    {
     "name": "stdout",
     "output_type": "stream",
     "text": [
      "{'_id': ObjectId('62701746796b8b129b7ab550'), 'name': 'Thomas', 'age': 37}\n",
      "{'_id': ObjectId('62701746796b8b129b7ab551'), 'name': 'John', 'age': 37}\n"
     ]
    }
   ],
   "source": [
    "import pymongo\n",
    "\n",
    "client = pymongo.MongoClient(\"localhost\", 27017)\n",
    "db = client[\"testdb\"]\n",
    "coll = db[\"developers\"]\n",
    "\n",
    "query = {}\n",
    "values = { \"$set\": { \"age\": 37 } }\n",
    "\n",
    "coll.update_many(query, values)\n",
    "\n",
    "documents = coll.find()\n",
    "\n",
    "for document in documents:\n",
    "    print(document)"
   ]
  }
 ],
 "metadata": {
  "kernelspec": {
   "display_name": "myenv",
   "language": "python",
   "name": "myenv"
  },
  "language_info": {
   "codemirror_mode": {
    "name": "ipython",
    "version": 3
   },
   "file_extension": ".py",
   "mimetype": "text/x-python",
   "name": "python",
   "nbconvert_exporter": "python",
   "pygments_lexer": "ipython3",
   "version": "3.8.3"
  }
 },
 "nbformat": 4,
 "nbformat_minor": 4
}
