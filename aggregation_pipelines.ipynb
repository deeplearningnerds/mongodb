{
 "cells": [
  {
   "cell_type": "markdown",
   "metadata": {},
   "source": [
    "## Inserting Example Data"
   ]
  },
  {
   "cell_type": "code",
   "execution_count": 23,
   "metadata": {},
   "outputs": [
    {
     "name": "stdout",
     "output_type": "stream",
     "text": [
      "{'_id': ObjectId('62ac6d911f3a190a2acad1a0'), 'devId': '001', 'name': 'Thomas', 'age': 36, 'country': 'Germany'}\n",
      "{'_id': ObjectId('62ac6d911f3a190a2acad1a1'), 'devId': '002', 'name': 'John', 'age': 44, 'country': 'Scotland'}\n",
      "{'_id': ObjectId('62ac6d911f3a190a2acad1a2'), 'devId': '003', 'name': 'Lothar', 'age': 26, 'country': 'Germany'}\n"
     ]
    }
   ],
   "source": [
    "import pymongo\n",
    "import pandas as pd\n",
    "\n",
    "client = pymongo.MongoClient(\"localhost\", 27017)\n",
    "db = client[\"testdb\"]\n",
    "coll = db[\"developers\"]\n",
    "\n",
    "mylist = [\n",
    "    { \"devId\": \"001\", \"name\": \"Thomas\", \"age\": 36, \"country\": \"Germany\" },\n",
    "    { \"devId\": \"002\", \"name\": \"John\", \"age\": 44, \"country\": \"Scotland\" },\n",
    "    { \"devId\": \"003\", \"name\": \"Lothar\", \"age\": 26, \"country\": \"Germany\" },\n",
    "]\n",
    "coll.insert_many(mylist)\n",
    "\n",
    "documents = coll.find()\n",
    "\n",
    "for document in documents:\n",
    "    print(document)"
   ]
  },
  {
   "cell_type": "markdown",
   "metadata": {},
   "source": [
    "## Aggregation Pipeline 1"
   ]
  },
  {
   "cell_type": "code",
   "execution_count": 24,
   "metadata": {},
   "outputs": [
    {
     "data": {
      "text/html": [
       "<div>\n",
       "<style scoped>\n",
       "    .dataframe tbody tr th:only-of-type {\n",
       "        vertical-align: middle;\n",
       "    }\n",
       "\n",
       "    .dataframe tbody tr th {\n",
       "        vertical-align: top;\n",
       "    }\n",
       "\n",
       "    .dataframe thead th {\n",
       "        text-align: right;\n",
       "    }\n",
       "</style>\n",
       "<table border=\"1\" class=\"dataframe\">\n",
       "  <thead>\n",
       "    <tr style=\"text-align: right;\">\n",
       "      <th></th>\n",
       "      <th>_id</th>\n",
       "      <th>devId</th>\n",
       "      <th>name</th>\n",
       "      <th>age</th>\n",
       "      <th>country</th>\n",
       "    </tr>\n",
       "  </thead>\n",
       "  <tbody>\n",
       "    <tr>\n",
       "      <th>0</th>\n",
       "      <td>62ac6d911f3a190a2acad1a0</td>\n",
       "      <td>001</td>\n",
       "      <td>Thomas</td>\n",
       "      <td>36</td>\n",
       "      <td>Germany</td>\n",
       "    </tr>\n",
       "    <tr>\n",
       "      <th>1</th>\n",
       "      <td>62ac6d911f3a190a2acad1a1</td>\n",
       "      <td>002</td>\n",
       "      <td>John</td>\n",
       "      <td>44</td>\n",
       "      <td>Scotland</td>\n",
       "    </tr>\n",
       "  </tbody>\n",
       "</table>\n",
       "</div>"
      ],
      "text/plain": [
       "                        _id devId    name  age   country\n",
       "0  62ac6d911f3a190a2acad1a0   001  Thomas   36   Germany\n",
       "1  62ac6d911f3a190a2acad1a1   002    John   44  Scotland"
      ]
     },
     "execution_count": 24,
     "metadata": {},
     "output_type": "execute_result"
    }
   ],
   "source": [
    "pipeline = [\n",
    "    {\n",
    "        \"$match\": {\n",
    "            \"age\": {\"$gte\": 30}\n",
    "        }\n",
    "    }, \n",
    "    {\n",
    "        \"$sort\": {\n",
    "            \"age\": pymongo.ASCENDING\n",
    "        }\n",
    "    },\n",
    "]\n",
    "\n",
    "results = coll.aggregate(pipeline)\n",
    "df_results = pd.DataFrame(list(results))\n",
    "df_results"
   ]
  },
  {
   "cell_type": "markdown",
   "metadata": {},
   "source": [
    "## Aggregation Pipeline 2"
   ]
  },
  {
   "cell_type": "code",
   "execution_count": 25,
   "metadata": {},
   "outputs": [
    {
     "data": {
      "text/html": [
       "<div>\n",
       "<style scoped>\n",
       "    .dataframe tbody tr th:only-of-type {\n",
       "        vertical-align: middle;\n",
       "    }\n",
       "\n",
       "    .dataframe tbody tr th {\n",
       "        vertical-align: top;\n",
       "    }\n",
       "\n",
       "    .dataframe thead th {\n",
       "        text-align: right;\n",
       "    }\n",
       "</style>\n",
       "<table border=\"1\" class=\"dataframe\">\n",
       "  <thead>\n",
       "    <tr style=\"text-align: right;\">\n",
       "      <th></th>\n",
       "      <th>_id</th>\n",
       "      <th>devId</th>\n",
       "      <th>name</th>\n",
       "      <th>age</th>\n",
       "      <th>country</th>\n",
       "    </tr>\n",
       "  </thead>\n",
       "  <tbody>\n",
       "    <tr>\n",
       "      <th>0</th>\n",
       "      <td>62ac6d911f3a190a2acad1a2</td>\n",
       "      <td>003</td>\n",
       "      <td>Lothar</td>\n",
       "      <td>26</td>\n",
       "      <td>Germany</td>\n",
       "    </tr>\n",
       "    <tr>\n",
       "      <th>1</th>\n",
       "      <td>62ac6d911f3a190a2acad1a0</td>\n",
       "      <td>001</td>\n",
       "      <td>Thomas</td>\n",
       "      <td>36</td>\n",
       "      <td>Germany</td>\n",
       "    </tr>\n",
       "  </tbody>\n",
       "</table>\n",
       "</div>"
      ],
      "text/plain": [
       "                        _id devId    name  age  country\n",
       "0  62ac6d911f3a190a2acad1a2   003  Lothar   26  Germany\n",
       "1  62ac6d911f3a190a2acad1a0   001  Thomas   36  Germany"
      ]
     },
     "execution_count": 25,
     "metadata": {},
     "output_type": "execute_result"
    }
   ],
   "source": [
    "pipeline = [\n",
    "    {\n",
    "        \"$match\": {\n",
    "            \"country\": \"Germany\"\n",
    "        }\n",
    "    }, \n",
    "    {\n",
    "        \"$sort\": {\n",
    "            \"age\": pymongo.ASCENDING\n",
    "        }\n",
    "    },\n",
    "    {\n",
    "        \"$out\": {\n",
    "            \"db\": \"testdb\", \n",
    "            \"coll\": \"developers_ger\" \n",
    "        }\n",
    "    }\n",
    "]\n",
    "\n",
    "coll.aggregate(pipeline)\n",
    "\n",
    "client = pymongo.MongoClient(\"localhost\", 27017)\n",
    "db = client[\"testdb\"]\n",
    "coll_new = db[\"developers_ger\"]\n",
    "cursor = coll_new.find()\n",
    "df_devs_ger = pd.DataFrame(list(cursor))\n",
    "df_devs_ger"
   ]
  },
  {
   "cell_type": "markdown",
   "metadata": {},
   "source": [
    "## Aggregation Pipeline 3"
   ]
  },
  {
   "cell_type": "code",
   "execution_count": 26,
   "metadata": {},
   "outputs": [
    {
     "data": {
      "text/html": [
       "<div>\n",
       "<style scoped>\n",
       "    .dataframe tbody tr th:only-of-type {\n",
       "        vertical-align: middle;\n",
       "    }\n",
       "\n",
       "    .dataframe tbody tr th {\n",
       "        vertical-align: top;\n",
       "    }\n",
       "\n",
       "    .dataframe thead th {\n",
       "        text-align: right;\n",
       "    }\n",
       "</style>\n",
       "<table border=\"1\" class=\"dataframe\">\n",
       "  <thead>\n",
       "    <tr style=\"text-align: right;\">\n",
       "      <th></th>\n",
       "      <th>_id</th>\n",
       "      <th>count</th>\n",
       "    </tr>\n",
       "  </thead>\n",
       "  <tbody>\n",
       "    <tr>\n",
       "      <th>0</th>\n",
       "      <td>Germany</td>\n",
       "      <td>2</td>\n",
       "    </tr>\n",
       "    <tr>\n",
       "      <th>1</th>\n",
       "      <td>Scotland</td>\n",
       "      <td>1</td>\n",
       "    </tr>\n",
       "  </tbody>\n",
       "</table>\n",
       "</div>"
      ],
      "text/plain": [
       "        _id  count\n",
       "0   Germany      2\n",
       "1  Scotland      1"
      ]
     },
     "execution_count": 26,
     "metadata": {},
     "output_type": "execute_result"
    }
   ],
   "source": [
    "pipeline = [\n",
    "    {\n",
    "        \"$group\": {\n",
    "            \"_id\": \"$country\", \n",
    "            \"count\": {\"$sum\": 1}\n",
    "        }\n",
    "    },\n",
    "    {\n",
    "        \"$sort\": {\n",
    "         \"count\": pymongo.DESCENDING\n",
    "        }\n",
    "    },\n",
    "]\n",
    "\n",
    "results = coll.aggregate(pipeline)\n",
    "df_results = pd.DataFrame(list(results))\n",
    "df_results"
   ]
  },
  {
   "cell_type": "code",
   "execution_count": null,
   "metadata": {},
   "outputs": [],
   "source": []
  },
  {
   "cell_type": "code",
   "execution_count": null,
   "metadata": {},
   "outputs": [],
   "source": []
  }
 ],
 "metadata": {
  "kernelspec": {
   "display_name": "myenv",
   "language": "python",
   "name": "myenv"
  },
  "language_info": {
   "codemirror_mode": {
    "name": "ipython",
    "version": 3
   },
   "file_extension": ".py",
   "mimetype": "text/x-python",
   "name": "python",
   "nbconvert_exporter": "python",
   "pygments_lexer": "ipython3",
   "version": "3.8.3"
  }
 },
 "nbformat": 4,
 "nbformat_minor": 4
}
