{
 "cells": [
  {
   "cell_type": "markdown",
   "metadata": {},
   "source": [
    "## Inserting a Single Document"
   ]
  },
  {
   "cell_type": "code",
   "execution_count": 3,
   "metadata": {},
   "outputs": [
    {
     "name": "stdout",
     "output_type": "stream",
     "text": [
      "{'_id': ObjectId('627016f4796b8b129b7ab54e'), 'name': 'Thomas', 'age': 36}\n"
     ]
    }
   ],
   "source": [
    "import pymongo\n",
    "\n",
    "client = pymongo.MongoClient(\"localhost\", 27017)\n",
    "db = client[\"testdb\"]\n",
    "coll = db[\"developers\"]\n",
    "\n",
    "mydict = { \"name\": \"Thomas\", \"age\": 36 }\n",
    "coll.insert_one(mydict)\n",
    "\n",
    "documents = coll.find()\n",
    "\n",
    "for document in documents:\n",
    "    print(document)"
   ]
  },
  {
   "cell_type": "markdown",
   "metadata": {},
   "source": [
    "## Inserting Multiple Documents"
   ]
  },
  {
   "cell_type": "code",
   "execution_count": 5,
   "metadata": {},
   "outputs": [
    {
     "name": "stdout",
     "output_type": "stream",
     "text": [
      "{'_id': ObjectId('62701caf796b8b129b7ab553'), 'name': 'Thomas', 'age': 36}\n",
      "{'_id': ObjectId('62701caf796b8b129b7ab554'), 'name': 'John', 'age': 44}\n"
     ]
    }
   ],
   "source": [
    "import pymongo\n",
    "\n",
    "client = pymongo.MongoClient(\"localhost\", 27017)\n",
    "db = client[\"testdb\"]\n",
    "coll = db[\"developers\"]\n",
    "\n",
    "mylist = [\n",
    "    { \"name\": \"Thomas\", \"age\": 36 },\n",
    "    { \"name\": \"John\", \"age\": 44 }\n",
    "]\n",
    "coll.insert_many(mylist)\n",
    "\n",
    "documents = coll.find()\n",
    "\n",
    "for document in documents:\n",
    "    print(document)"
   ]
  },
  {
   "cell_type": "code",
   "execution_count": null,
   "metadata": {},
   "outputs": [],
   "source": []
  }
 ],
 "metadata": {
  "kernelspec": {
   "display_name": "myenv",
   "language": "python",
   "name": "myenv"
  },
  "language_info": {
   "codemirror_mode": {
    "name": "ipython",
    "version": 3
   },
   "file_extension": ".py",
   "mimetype": "text/x-python",
   "name": "python",
   "nbconvert_exporter": "python",
   "pygments_lexer": "ipython3",
   "version": "3.8.3"
  }
 },
 "nbformat": 4,
 "nbformat_minor": 4
}
